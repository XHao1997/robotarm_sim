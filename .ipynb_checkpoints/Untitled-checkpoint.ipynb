{
 "cells": [
  {
   "cell_type": "code",
   "execution_count": 24,
   "id": "af49f09a-92d5-4b28-b214-62296aa15b28",
   "metadata": {},
   "outputs": [],
   "source": [
    "#coding=utf-8\n",
    "import numpy as np\n",
    "import PyKDL as kdl\n",
    "import urdf_parser_py.urdf as urdf\n",
    "\n"
   ]
  },
  {
   "cell_type": "code",
   "execution_count": 127,
   "id": "3ffc6e6b-22e5-43ea-87bb-1fba772e303a",
   "metadata": {},
   "outputs": [],
   "source": [
    "import xml.dom.minidom\n",
    "import os\n",
    "import numpy as np\n",
    "\n",
    "def getInertial(joint_id,xml_obj):\n",
    "    \"\"\" get inertial data. \"\"\"\n",
    "    # mass = xml_obj.getElementsByTagName(\"mass\")[joint_id].getAttribute(\"value\")\n",
    "    rpy  = xml_obj.getElementsByTagName(\"joint\")[joint_id].getElementsByTagName(\"origin\")[0].getAttribute(\"rpy\").split(\" \")\n",
    "    rpy  = tuple([float(i) for i in rpy])\n",
    "    axis  = xml_obj.getElementsByTagName(\"joint\")[joint_id].getElementsByTagName(\"axis\")[0].getAttribute(\"xyz\").split(\" \")\n",
    "    axis  = np.array(axis,dtype=np.float32)\n",
    "    xyz  = xml_obj.getElementsByTagName(\"joint\")[joint_id].getElementsByTagName(\"origin\")[0].getAttribute(\"xyz\").split(\" \")\n",
    "    xyz  = np.array(xyz,dtype=np.float32)\n",
    "    data = [axis, rpy,xyz]\n",
    "    return data\n",
    "\n"
   ]
  },
  {
   "cell_type": "code",
   "execution_count": 128,
   "id": "3f1335a4-01a8-4b70-8143-46e6b1ca4f7d",
   "metadata": {},
   "outputs": [
    {
     "name": "stdout",
     "output_type": "stream",
     "text": [
      "[array([0., 0., 1.], dtype=float32), (0.0, 0.0, 0.0), array([0.   , 0.   , 0.064], dtype=float32)]\n",
      "[array([0., 0., 1.], dtype=float32), (0.0, 1.5708, 0.0), array([0.    , 0.    , 0.0435], dtype=float32)]\n",
      "[array([0., 0., 1.], dtype=float32), (0.0, 0.0, 0.0), array([-0.08285,  0.     ,  0.     ], dtype=float32)]\n",
      "[array([0., 0., 1.], dtype=float32), (0.0, 0.0, 0.0), array([-0.08285,  0.     ,  0.     ], dtype=float32)]\n",
      "[array([0., 0., 1.], dtype=float32), (0.0, -1.5708, 0.0), array([-0.07385, -0.00215,  0.     ], dtype=float32)]\n"
     ]
    }
   ],
   "source": [
    "\n",
    "# robot = urdf.URDF.from_xml_file('dofbot.urdf')\n",
    "xmlDoc = xml.dom.minidom.parse('dofbot.urdf')                 # 加载文件\n",
    "link_count  = xmlDoc.getElementsByTagName(\"link\").length   # 统计 link  数量\n",
    "joint_count = xmlDoc.getElementsByTagName(\"joint\").length  # 统计 joint 数量\n",
    "# print(joint_count)\n",
    "parameter_robot = {}\n",
    "for i in range(joint_count):\n",
    "    data = getInertial(i,xmlDoc)\n",
    "    print(data)\n",
    "    parameter_robot[i]=data"
   ]
  },
  {
   "cell_type": "code",
   "execution_count": 129,
   "id": "28599ce1-b404-46f7-9492-4603d742eeb2",
   "metadata": {},
   "outputs": [
    {
     "data": {
      "text/plain": [
       "[array([0., 0., 1.], dtype=float32),\n",
       " (0.0, 0.0, 0.0),\n",
       " array([0.   , 0.   , 0.064], dtype=float32)]"
      ]
     },
     "execution_count": 129,
     "metadata": {},
     "output_type": "execute_result"
    }
   ],
   "source": [
    "parameter_robot[0]"
   ]
  },
  {
   "cell_type": "code",
   "execution_count": null,
   "id": "594e4608-e4bf-4983-ac85-4120589e38ec",
   "metadata": {},
   "outputs": [],
   "source": []
  },
  {
   "cell_type": "code",
   "execution_count": 134,
   "id": "d02217ef-0980-45fd-bbbf-b86c8180aa8e",
   "metadata": {},
   "outputs": [
    {
     "name": "stdout",
     "output_type": "stream",
     "text": [
      "5\n"
     ]
    }
   ],
   "source": [
    "# import copy #用于深度拷贝\n",
    " \n",
    "# 注意一些基本概念\n",
    "# Segment初始化由绕的轴和末端姿态来生成，可能跟书上的D-H方法有点不一样，区别在于用末端和轴来定义一个关节\n",
    "#   轴是在当前关节的坐标系中绕轴V旋转，默认设置为kdl.Joint.RotZ\n",
    "#   f_tip，末端在当前坐标系中的姿态\n",
    " \n",
    "jnts = []\n",
    "frms = []\n",
    " \n",
    "for i in range(joint_count):\n",
    "    jnts.append(kdl.Joint(kdl.Joint.RotZ))\n",
    " \n",
    "# 注意，这个框架是f_tip，末端\n",
    "frame = []\n",
    "for i in parameter_robot:\n",
    "    frm = kdl.Frame(kdl.Rotation.RPY(parameter_robot[i][1][0],parameter_robot[i][1][1],parameter_robot[i][1][2]), kdl.Vector(parameter_robot[i][2][0],parameter_robot[i][2][1],parameter_robot[i][2][2]))\n",
    "    frame.append(frm)\n",
    " \n",
    "print(len(frame)) \n",
    " "
   ]
  },
  {
   "cell_type": "code",
   "execution_count": 135,
   "id": "f981ce6a-5c50-4d42-8f4d-e4bad39616b0",
   "metadata": {},
   "outputs": [
    {
     "data": {
      "text/plain": [
       "[NoName:[RotZ, axis: [           0,           0,           1], origin[           0,           0,           0]],\n",
       " NoName:[RotZ, axis: [           0,           0,           1], origin[           0,           0,           0]],\n",
       " NoName:[RotZ, axis: [           0,           0,           1], origin[           0,           0,           0]],\n",
       " NoName:[RotZ, axis: [           0,           0,           1], origin[           0,           0,           0]],\n",
       " NoName:[RotZ, axis: [           0,           0,           1], origin[           0,           0,           0]]]"
      ]
     },
     "execution_count": 135,
     "metadata": {},
     "output_type": "execute_result"
    }
   ],
   "source": [
    "jnts"
   ]
  },
  {
   "cell_type": "code",
   "execution_count": 158,
   "id": "877d3826-e61c-4428-a0e7-55ca6d7d78bd",
   "metadata": {},
   "outputs": [
    {
     "data": {
      "text/plain": [
       "-4"
      ]
     },
     "execution_count": 158,
     "metadata": {},
     "output_type": "execute_result"
    }
   ],
   "source": [
    "import copy\n",
    "link = []\n",
    "rbt = kdl.Chain() #建立机器人对象\n",
    "for i in range(joint_count):\n",
    "    link.append(kdl.Segment(jnts[i], frame[i]))\n",
    "    rbt.addSegment(link[i])\n",
    " \n",
    "fk = kdl.ChainFkSolverPos_recursive(rbt)\n",
    " \n",
    "p = kdl.Frame()\n",
    "q = kdl.JntArray(6)\n",
    "q[0] = 0\n",
    "q[1] = 0\n",
    "q[2] = 0\n",
    "q[3] = 0\n",
    "q[4] = 0\n",
    "q[5] = np.pi/4\n",
    "q_int = copy.deepq\n",
    "q_int[2] = 0.1\n",
    "fk.JntToCart(q, p)\n",
    "ik = kdl.ChainIkSolverPos_LMA(rbt)\n",
    "\n",
    "ik.CartToJnt(q_int,p,q)"
   ]
  },
  {
   "cell_type": "code",
   "execution_count": 159,
   "id": "67d613f1-0096-4931-a374-7e119d3314bf",
   "metadata": {},
   "outputs": [],
   "source": [
    "q[3]=1"
   ]
  },
  {
   "cell_type": "code",
   "execution_count": 160,
   "id": "f70c255b-1bdf-4d84-8cb2-5a4718013126",
   "metadata": {},
   "outputs": [
    {
     "name": "stdout",
     "output_type": "stream",
     "text": [
      "[           0           0         0.1           1           0    0.785398]\n"
     ]
    }
   ],
   "source": [
    "print(q)\n"
   ]
  },
  {
   "cell_type": "code",
   "execution_count": 6,
   "id": "88f66c5a-5a0c-4566-9868-e0ed04c94f3c",
   "metadata": {},
   "outputs": [],
   "source": [
    "robot_assets = ['urdf/dofbot.urdf']\n",
    "\n",
    "import urdfpy\n",
    "import urdf_parser_py\n",
    "import yourdfpy"
   ]
  },
  {
   "cell_type": "code",
   "execution_count": 9,
   "id": "209e0232-5cd5-4932-bfd0-a36257123341",
   "metadata": {},
   "outputs": [
    {
     "data": {
      "text/plain": [
       "<urdf_parser_py.urdf.Robot at 0x20356e09d60>"
      ]
     },
     "execution_count": 9,
     "metadata": {},
     "output_type": "execute_result"
    }
   ],
   "source": [
    "URDF.from_xml_file('urdf/dofbot.urdf')"
   ]
  },
  {
   "cell_type": "code",
   "execution_count": null,
   "id": "61c3d22f-5e05-4056-af10-06acee80de0b",
   "metadata": {},
   "outputs": [],
   "source": []
  },
  {
   "cell_type": "code",
   "execution_count": 22,
   "id": "f0f7ac6c-e0b1-4586-bb7c-7517b2e0bce6",
   "metadata": {},
   "outputs": [
    {
     "name": "stdout",
     "output_type": "stream",
     "text": [
      "Problems loading:  urdf/dofbot.urdf\n",
      "0 / 1\n"
     ]
    },
    {
     "ename": "AttributeError",
     "evalue": "type object 'Robot' has no attribute 'load'",
     "output_type": "error",
     "traceback": [
      "\u001b[1;31m---------------------------------------------------------------------------\u001b[0m",
      "\u001b[1;31mAttributeError\u001b[0m                            Traceback (most recent call last)",
      "Cell \u001b[1;32mIn[22], line 17\u001b[0m\n\u001b[0;32m     15\u001b[0m \u001b[38;5;66;03m# parsing success rate\u001b[39;00m\n\u001b[0;32m     16\u001b[0m load_urdfs(robot_assets, urdfpy\u001b[38;5;241m.\u001b[39mURDF\u001b[38;5;241m.\u001b[39mload)\n\u001b[1;32m---> 17\u001b[0m load_urdfs(robot_assets, \u001b[43mURDF\u001b[49m\u001b[38;5;241;43m.\u001b[39;49m\u001b[43mload\u001b[49m)\n\u001b[0;32m     18\u001b[0m load_urdfs(robot_assets, yourdfpy\u001b[38;5;241m.\u001b[39mURDF\u001b[38;5;241m.\u001b[39mload)\n\u001b[0;32m     20\u001b[0m \u001b[38;5;66;03m# parsing times\u001b[39;00m\n",
      "\u001b[1;31mAttributeError\u001b[0m: type object 'Robot' has no attribute 'load'"
     ]
    }
   ],
   "source": [
    "from functools import partial\n",
    "\n",
    "def load_urdfs(fnames, load_fn):\n",
    "    results = {fname: None for fname in fnames}\n",
    "    for fname in fnames:\n",
    "        try:\n",
    "            x = load_fn(fname)\n",
    "            results[fname] = x\n",
    "        except:\n",
    "            print(\"Problems loading: \", fname)\n",
    "            pass\n",
    "    print(sum([1 for x, y in results.items() if y is not None]), \"/\", len(fnames))\n",
    "    return results\n",
    "\n",
    "# parsing success rate\n",
    "load_urdfs(robot_assets, urdfpy.URDF.load)\n",
    "load_urdfs(robot_assets, URDF.load)\n",
    "load_urdfs(robot_assets, yourdfpy.URDF.load)\n",
    "\n",
    "# parsing times\n",
    "%timeit load_urdfs(robot_assets, urdfpy.URDF.load)\n",
    "%timeit load_urdfs(robot_assets, URDF.load)\n",
    "%timeit load_urdfs(robot_assets, yourdfpy.URDF.load)\n",
    "%timeit load_urdfs(robot_assets, partial(yourdfpy.URDF.load, load_meshes=False, build_scene_graph=False))\n",
    "\n",
    "# fairer comparison with yourdfpy\n",
    "urdfpy_fnames = [x for x, y in load_urdfs(robot_assets, urdfpy.URDF.load).items() if y is not None]\n",
    "%timeit load_urdfs(urdfpy_fnames, yourdfpy.URDF.load)\n",
    "\n",
    "# fairer comparison with urdf_parser_py\n",
    "urdfparser_fnames = [x for x, y in load_urdfs(robot_assets, urdf_parser_py.urdf.URDF.from_xml_file).items() if y is not None]\n",
    "%timeit load_urdfs(urdfparser_fnames, functools.partial(yourdfpy.URDF.load, load_meshes=False, build_scene_graph=False))"
   ]
  },
  {
   "cell_type": "code",
   "execution_count": 10,
   "id": "1adfe9a4-3abb-49ef-93d3-3ee4bf852490",
   "metadata": {},
   "outputs": [
    {
     "data": {
      "text/plain": [
       "[NoName:[NoName:[RotZ, axis: [           0,           0,           1], origin[           0,           0,           0]],\n",
       " tip: \n",
       "[[           1,           0,           0;\n",
       "            0, 6.12323e-17,           1;\n",
       "            0,          -1, 6.12323e-17]\n",
       "[           0,           0,       239.5]]]\n",
       "NoName:[NoName:[RotZ, axis: [           0,           0,           1], origin[           0,           0,           0]],\n",
       " tip: \n",
       "[[           1,           0,           0;\n",
       "            0,           1,           0;\n",
       "            0,           0,           1]\n",
       "[         250,           0,           0]]]\n",
       "NoName:[NoName:[RotZ, axis: [           0,           0,           1], origin[           0,           0,           0]],\n",
       " tip: \n",
       "[[ 6.12323e-17,          -1,           0;\n",
       "            1, 6.12323e-17,           0;\n",
       "            0,           0,           1]\n",
       "[           0,         262,           0]]]\n",
       "NoName:[NoName:[RotZ, axis: [           0,           0,           1], origin[           0,           0,           0]],\n",
       " tip: \n",
       "[[           1,           0,           0;\n",
       "            0, 6.12323e-17,           1;\n",
       "            0,          -1, 6.12323e-17]\n",
       "[           0,           0,           0]]]\n",
       "NoName:[NoName:[RotZ, axis: [           0,           0,           1], origin[           0,           0,           0]],\n",
       " tip: \n",
       "[[           1,           0,           0;\n",
       "            0, 6.12323e-17,          -1;\n",
       "            0,           1, 6.12323e-17]\n",
       "[           0,           0,           0]]]\n",
       "NoName:[NoName:[RotZ, axis: [           0,           0,           1], origin[           0,           0,           0]],\n",
       " tip: \n",
       "[[           1,           0,           0;\n",
       "            0,           1,           0;\n",
       "            0,           0,           1]\n",
       "[        -168,           0,           0]]]\n",
       "]"
      ]
     },
     "execution_count": 10,
     "metadata": {},
     "output_type": "execute_result"
    }
   ],
   "source": [
    "rbt"
   ]
  },
  {
   "cell_type": "code",
   "execution_count": null,
   "id": "1322c562-5b38-4ac3-8892-f007ed71f012",
   "metadata": {},
   "outputs": [],
   "source": []
  }
 ],
 "metadata": {
  "kernelspec": {
   "display_name": "robot_sim",
   "language": "python",
   "name": "robot_sim"
  },
  "language_info": {
   "codemirror_mode": {
    "name": "ipython",
    "version": 3
   },
   "file_extension": ".py",
   "mimetype": "text/x-python",
   "name": "python",
   "nbconvert_exporter": "python",
   "pygments_lexer": "ipython3",
   "version": "3.8.18"
  }
 },
 "nbformat": 4,
 "nbformat_minor": 5
}
