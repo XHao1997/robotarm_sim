{
 "cells": [
  {
   "cell_type": "code",
   "execution_count": 3,
   "id": "0eed92f3-32e5-4f3c-98dd-f42228f2e4eb",
   "metadata": {},
   "outputs": [],
   "source": [
    "import numpy as np\n",
    "import roboticstoolbox as rtb\n",
    "import matplotlib\n",
    "import matplotlib.pyplot as plt\n",
    "from roboticstoolbox.backends import swift\n",
    "import spatialmath as sm"
   ]
  },
  {
   "cell_type": "code",
   "execution_count": null,
   "id": "679e6abb-1313-4169-bfb3-12773b6d2f68",
   "metadata": {
    "ExecuteTime": {
     "start_time": "2024-01-18T09:21:41.317953600Z"
    }
   },
   "outputs": [
    {
     "data": {
      "text/html": [
       "\n",
       "        <iframe\n",
       "            width=\"600\"\n",
       "            height=\"400\"\n",
       "            src=\"http://localhost:52002/?53002\"\n",
       "            frameborder=\"0\"\n",
       "            allowfullscreen\n",
       "            \n",
       "        ></iframe>\n",
       "        "
      ],
      "text/plain": [
       "<IPython.lib.display.IFrame at 0x1d478aadfd0>"
      ]
     },
     "metadata": {},
     "output_type": "display_data"
    },
    {
     "name": "stdout",
     "output_type": "stream",
     "text": [
      "multiple end-effectors present, ambiguous, using self.ee_links[0]\n"
     ]
    }
   ],
   "source": [
    "# Make and instance of the Swift simulator and open it\n",
    "env = swift.Swift()\n",
    "\n",
    "env.launch(realtime=True, browser=\"notebook\")\n",
    "\n",
    "# Make a panda model and set its joint angles to the ready joint configuration\n",
    "UR = rtb.models.UR3()\n",
    "UR.q = UR.qr\n",
    "\n",
    "# Set a desired and effector pose an an offset from the current end-effector pose\n",
    "Tep = panda.fkine(panda.q) * sm.SE3.Tx(0.2) * sm.SE3.Ty(0.2) * sm.SE3.Tz(0.45)\n",
    "\n",
    "# Add the robot to the simulator\n",
    "env.add(panda)\n",
    "\n",
    "# Simulate the robot while it has not arrived at the goal\n",
    "arrived = False\n",
    "while not arrived:\n",
    "\n",
    "    # Work out the required end-effector velocity to go towards the goal\n",
    "    v, arrived = rtb.p_servo(panda.fkine(panda.q), Tep, 1)\n",
    "    \n",
    "    # Set the Panda's joint velocities\n",
    "    panda.qd = np.linalg.pinv(panda.jacobe(panda.q)) @ v\n",
    "    \n",
    "    # Step the simulator by 50 milliseconds\n",
    "    env.step(0.05)\n"
   ]
  },
  {
   "cell_type": "code",
   "execution_count": null,
   "id": "c82254ad",
   "metadata": {},
   "outputs": [],
   "source": []
  }
 ],
 "metadata": {
  "kernelspec": {
   "display_name": "robot_sim",
   "language": "python",
   "name": "robot_sim"
  },
  "language_info": {
   "codemirror_mode": {
    "name": "ipython",
    "version": 3
   },
   "file_extension": ".py",
   "mimetype": "text/x-python",
   "name": "python",
   "nbconvert_exporter": "python",
   "pygments_lexer": "ipython3",
   "version": "3.8.18"
  },
  "toc": {
   "base_numbering": 1,
   "nav_menu": {},
   "number_sections": true,
   "sideBar": true,
   "skip_h1_title": false,
   "title_cell": "Table of Contents",
   "title_sidebar": "Contents",
   "toc_cell": false,
   "toc_position": {},
   "toc_section_display": true,
   "toc_window_display": false
  },
  "varInspector": {
   "cols": {
    "lenName": 16,
    "lenType": 16,
    "lenVar": 40
   },
   "kernels_config": {
    "python": {
     "delete_cmd_postfix": "",
     "delete_cmd_prefix": "del ",
     "library": "var_list.py",
     "varRefreshCmd": "print(var_dic_list())"
    },
    "r": {
     "delete_cmd_postfix": ") ",
     "delete_cmd_prefix": "rm(",
     "library": "var_list.r",
     "varRefreshCmd": "cat(var_dic_list()) "
    }
   },
   "types_to_exclude": [
    "module",
    "function",
    "builtin_function_or_method",
    "instance",
    "_Feature"
   ],
   "window_display": false
  }
 },
 "nbformat": 4,
 "nbformat_minor": 5
}
