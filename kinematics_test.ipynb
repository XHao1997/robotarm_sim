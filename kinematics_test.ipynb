{
 "cells": [
  {
   "cell_type": "code",
   "execution_count": 1,
   "id": "af49f09a-92d5-4b28-b214-62296aa15b28",
   "metadata": {},
   "outputs": [],
   "source": [
    "#coding=utf-8\n",
    "import numpy as np\n",
    "import PyKDL as kdl\n",
    "import urdf_parser_py.urdf as urdf\n",
    "import xml.dom.minidom\n",
    "import os\n",
    "import numpy as np\n",
    "import copy"
   ]
  },
  {
   "cell_type": "code",
   "execution_count": 2,
   "id": "3ffc6e6b-22e5-43ea-87bb-1fba772e303a",
   "metadata": {},
   "outputs": [],
   "source": [
    "def get_urdf_parameter(joint_id,xml_obj):\n",
    "    \"\"\" get inertial data. \"\"\"\n",
    "    # mass = xml_obj.getElementsByTagName(\"mass\")[joint_id].getAttribute(\"value\")\n",
    "    rpy  = xml_obj.getElementsByTagName(\"joint\")[joint_id].getElementsByTagName(\"origin\")[0].getAttribute(\"rpy\").split(\" \")\n",
    "    rpy  = tuple([float(i) for i in rpy])\n",
    "    axis  = xml_obj.getElementsByTagName(\"joint\")[joint_id].getElementsByTagName(\"axis\")[0].getAttribute(\"xyz\").split(\" \")\n",
    "    axis  = np.array(axis,dtype=np.float32)\n",
    "    xyz  = xml_obj.getElementsByTagName(\"joint\")[joint_id].getElementsByTagName(\"origin\")[0].getAttribute(\"xyz\").split(\" \")\n",
    "    xyz  = np.array(xyz,dtype=np.float32)\n",
    "    data = [axis, rpy,xyz]\n",
    "    return data"
   ]
  },
  {
   "cell_type": "code",
   "execution_count": 3,
   "id": "3f1335a4-01a8-4b70-8143-46e6b1ca4f7d",
   "metadata": {},
   "outputs": [
    {
     "name": "stdout",
     "output_type": "stream",
     "text": [
      "[array([0., 0., 1.], dtype=float32), (0.0, 0.0, 0.0), array([0.   , 0.   , 0.064], dtype=float32)]\n",
      "[array([0., 0., 1.], dtype=float32), (0.0, 1.5708, 0.0), array([0.    , 0.    , 0.0435], dtype=float32)]\n",
      "[array([0., 0., 1.], dtype=float32), (0.0, 0.0, 0.0), array([-0.08285,  0.     ,  0.     ], dtype=float32)]\n",
      "[array([0., 0., 1.], dtype=float32), (0.0, 0.0, 0.0), array([-0.08285,  0.     ,  0.     ], dtype=float32)]\n",
      "[array([0., 0., 1.], dtype=float32), (0.0, -1.5708, 0.0), array([-0.07385, -0.00215,  0.     ], dtype=float32)]\n"
     ]
    }
   ],
   "source": [
    "# robot = urdf.URDF.from_xml_file('dofbot.urdf')\n",
    "xmlDoc = xml.dom.minidom.parse('dofbot.urdf')                 # 加载文件\n",
    "link_count  = xmlDoc.getElementsByTagName(\"link\").length   # 统计 link  数量\n",
    "joint_count = xmlDoc.getElementsByTagName(\"joint\").length  # 统计 joint 数量\n",
    "# print(joint_count)\n",
    "parameter_robot = {}\n",
    "for i in range(joint_count):\n",
    "    data = get_urdf_parameter(i,xmlDoc)\n",
    "    print(data)\n",
    "    parameter_robot[i]=data"
   ]
  },
  {
   "cell_type": "code",
   "execution_count": 4,
   "id": "28599ce1-b404-46f7-9492-4603d742eeb2",
   "metadata": {},
   "outputs": [
    {
     "data": {
      "text/plain": [
       "[array([0., 0., 1.], dtype=float32),\n",
       " (0.0, 0.0, 0.0),\n",
       " array([0.   , 0.   , 0.064], dtype=float32)]"
      ]
     },
     "execution_count": 4,
     "metadata": {},
     "output_type": "execute_result"
    }
   ],
   "source": [
    "parameter_robot[0]"
   ]
  },
  {
   "cell_type": "code",
   "execution_count": 135,
   "id": "d02217ef-0980-45fd-bbbf-b86c8180aa8e",
   "metadata": {},
   "outputs": [],
   "source": [
    "# import copy #用于深度拷贝\n",
    " \n",
    "# 注意一些基本概念\n",
    "# Segment初始化由绕的轴和末端姿态来生成，可能跟书上的D-H方法有点不一样，区别在于用末端和轴来定义一个关节\n",
    "#   轴是在当前关节的坐标系中绕轴V旋转，默认设置为kdl.Joint.RotZ\n",
    "#   f_tip，末端在当前坐标系中的姿态\n",
    " \n",
    "jnts = []\n",
    "frms = []\n",
    " \n",
    "for i in range(joint_count):\n",
    "    jnts.append(kdl.Joint(kdl.Joint.RotZ))\n",
    " \n",
    "# 注意，这个框架是f_tip，末端\n",
    "frame = []\n",
    "for i in parameter_robot:\n",
    "    frm = kdl.Frame(kdl.Rotation.RPY(parameter_robot[i][1][0],parameter_robot[i][1][1],parameter_robot[i][1][2]), kdl.Vector(parameter_robot[i][2][0],parameter_robot[i][2][1],parameter_robot[i][2][2]))\n",
    "    frame.append(frm)\n",
    " \n",
    " "
   ]
  },
  {
   "cell_type": "code",
   "execution_count": 277,
   "id": "877d3826-e61c-4428-a0e7-55ca6d7d78bd",
   "metadata": {},
   "outputs": [
    {
     "name": "stdout",
     "output_type": "stream",
     "text": [
      "[[           1,           0,           0;\n",
      "            0,           1,           0;\n",
      "            0,           0,           1]\n",
      "[ 8.79916e-07,    -0.00215,     0.34705]]\n"
     ]
    }
   ],
   "source": [
    "link = []\n",
    "rbt = kdl.Chain() \n",
    "for i in range(joint_count):\n",
    "    link.append(kdl.Segment(jnts[i], frame[i]))\n",
    "    rbt.addSegment(link[i])\n",
    " \n",
    "fk = kdl.ChainFkSolverPos_recursive(rbt)\n",
    " \n",
    "p = kdl.Frame()\n",
    "q = kdl.JntArray(5)\n",
    "q_out = kdl.JntArray(5)\n",
    "\n",
    "q[0] = 0\n",
    "q[1] = 0\n",
    "q[2] = 0\n",
    "q[3] = 0\n",
    "q[4] = 0\n",
    "\n",
    "\n",
    "fk.JntToCart(q, p)\n",
    "\n",
    "ik = kdl.ChainIkSolverPos_LMA(rbt,eps=float(1e-10), maxiter=int(1e8))\n",
    "\n",
    "ik.CartToJnt(q,p,q_out)\n",
    "print(p)"
   ]
  },
  {
   "cell_type": "code",
   "execution_count": 276,
   "id": "551180c9-b326-432c-a2da-4e003a0de176",
   "metadata": {},
   "outputs": [
    {
     "name": "stderr",
     "output_type": "stream",
     "text": [
      "100%|████████████████████████████████████████████████████████████████████████████| 1000/1000 [00:00<00:00, 3721.14it/s]"
     ]
    },
    {
     "name": "stdout",
     "output_type": "stream",
     "text": [
      "success rate is:  0.999\n",
      "Elapsed time:  0.2778902053833008 seconds\n"
     ]
    },
    {
     "name": "stderr",
     "output_type": "stream",
     "text": [
      "\n"
     ]
    }
   ],
   "source": [
    "from tqdm import tqdm\n",
    "import time\n",
    "start_time = time.time()\n",
    "is_success = []\n",
    "for i in tqdm(range(int(1e3))):\n",
    "    # Do some work\n",
    "    \n",
    "    q[0] = np.random.uniform(-np.pi/2,np.pi/2)\n",
    "    q[1] = np.random.uniform(-np.pi/2,np.pi/2)\n",
    "    q[2] = np.random.uniform(-np.pi/2,np.pi/2)\n",
    "    q[3] = np.random.uniform(-np.pi/2,np.pi/2)\n",
    "    q[4] = np.random.uniform(0,0.0)\n",
    "    fk.JntToCart(q, p)\n",
    "    q_int = kdl.JntArray(5)\n",
    "    q_int[0] = q[0]\n",
    "    q_int[1] = 0\n",
    "    q_int[2] = 0\n",
    "    q_int[3] = 0\n",
    "    q_int[4] = q[4]\n",
    "    # q_int = q\n",
    "    temp = int(ik.CartToJnt(q_int,p,q_out))\n",
    "    is_success.append(temp)\n",
    "end_time = time.time()\n",
    "succcuss_rate = 1- (np.count_nonzero(is_success))/len(is_success)\n",
    "print(\"success rate is: \", succcuss_rate)\n",
    "print(\"Elapsed time: \", end_time - start_time, \"seconds\")\n"
   ]
  }
 ],
 "metadata": {
  "kernelspec": {
   "display_name": "robot_sim",
   "language": "python",
   "name": "robot_sim"
  },
  "language_info": {
   "codemirror_mode": {
    "name": "ipython",
    "version": 3
   },
   "file_extension": ".py",
   "mimetype": "text/x-python",
   "name": "python",
   "nbconvert_exporter": "python",
   "pygments_lexer": "ipython3",
   "version": "3.8.18"
  }
 },
 "nbformat": 4,
 "nbformat_minor": 5
}
