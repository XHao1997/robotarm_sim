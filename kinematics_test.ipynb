{
 "cells": [
  {
   "cell_type": "code",
   "execution_count": 13,
   "id": "af49f09a-92d5-4b28-b214-62296aa15b28",
   "metadata": {
    "ExecuteTime": {
     "end_time": "2024-02-06T14:52:42.683200700Z",
     "start_time": "2024-02-06T14:52:42.676880800Z"
    }
   },
   "outputs": [],
   "source": [
    "#coding=utf-8\n",
    "import numpy as np\n",
    "import PyKDL as kdl\n",
    "import xml.dom.minidom\n",
    "from urdf_parser_py.urdf import URDF\n",
    "# from pykdl_utils.kdl_parser import kdl_tree_from_urdf_model\n",
    "import os\n",
    "import numpy as np\n",
    "import copy"
   ]
  },
  {
   "cell_type": "code",
   "execution_count": 2,
   "id": "3ffc6e6b-22e5-43ea-87bb-1fba772e303a",
   "metadata": {
    "ExecuteTime": {
     "end_time": "2024-02-06T13:35:37.958042Z",
     "start_time": "2024-02-06T13:35:37.947408200Z"
    }
   },
   "outputs": [],
   "source": [
    "def get_urdf_parameter(joint_id,xml_obj):\n",
    "    \"\"\" get inertial data. \"\"\"\n",
    "    # mass = xml_obj.getElementsByTagName(\"mass\")[joint_id].getAttribute(\"value\")\n",
    "    rpy  = xml_obj.getElementsByTagName(\"joint\")[joint_id].getElementsByTagName(\"origin\")[0].getAttribute(\"rpy\").split(\" \")\n",
    "    rpy  = tuple([float(i) for i in rpy])\n",
    "    axis  = xml_obj.getElementsByTagName(\"joint\")[joint_id].getElementsByTagName(\"axis\")[0].getAttribute(\"xyz\").split(\" \")\n",
    "    axis  = np.array(axis,dtype=np.float32)\n",
    "    xyz  = xml_obj.getElementsByTagName(\"joint\")[joint_id].getElementsByTagName(\"origin\")[0].getAttribute(\"xyz\").split(\" \")\n",
    "    xyz  = np.array(xyz,dtype=np.float32)\n",
    "    data = [axis, rpy,xyz]\n",
    "    return data"
   ]
  },
  {
   "cell_type": "code",
   "execution_count": 35,
   "id": "66944297e913a460",
   "metadata": {
    "ExecuteTime": {
     "end_time": "2024-02-06T15:05:44.737259300Z",
     "start_time": "2024-02-06T15:05:44.721636400Z"
    },
    "collapsed": false
   },
   "outputs": [],
   "source": [
    "import PyKDL as kdl\n",
    "from urdf_parser_py.urdf import Robot\n",
    "\n",
    "def euler_to_quat(r, p, y):\n",
    "    sr, sp, sy = np.sin(r/2.0), np.sin(p/2.0), np.sin(y/2.0)\n",
    "    cr, cp, cy = np.cos(r/2.0), np.cos(p/2.0), np.cos(y/2.0)\n",
    "    return [sr*cp*cy - cr*sp*sy,\n",
    "            cr*sp*cy + sr*cp*sy,\n",
    "            cr*cp*sy - sr*sp*cy,\n",
    "            cr*cp*cy + sr*sp*sy]\n",
    "\n",
    "def urdf_pose_to_kdl_frame(pose):\n",
    "    pos = [0., 0., 0.]\n",
    "    rot = [0., 0., 0.]\n",
    "    if pose is not None:\n",
    "        if pose.position is not None:\n",
    "            pos = pose.position\n",
    "        if pose.rotation is not None:\n",
    "            rot = pose.rotation\n",
    "    return kdl.Frame(kdl.Rotation.Quaternion(*euler_to_quat(*rot)),\n",
    "                     kdl.Vector(*pos))\n",
    "\n",
    "def urdf_joint_to_kdl_joint(jnt):\n",
    "    origin_frame = urdf_pose_to_kdl_frame(jnt.origin)\n",
    "    if jnt.joint_type == 'fixed':\n",
    "        return kdl.Joint(jnt.name, kdl.Joint.Fixed)\n",
    "    axis = kdl.Vector(*jnt.axis)\n",
    "    if jnt.joint_type == 'revolute':\n",
    "        return kdl.Joint(jnt.name, origin_frame.p,\n",
    "                         origin_frame.M * axis, kdl.Joint.RotAxis)\n",
    "    if jnt.joint_type == 'continuous':\n",
    "        return kdl.Joint(jnt.name, origin_frame.p,\n",
    "                         origin_frame.M * axis, kdl.Joint.RotAxis)\n",
    "    if jnt.joint_type == 'prismatic':\n",
    "        return kdl.Joint(jnt.name, origin_frame.p,\n",
    "                         origin_frame.M * axis, kdl.Joint.TransAxis)\n",
    "    # prin \"Unknown joint type: %s.\" % jnt.joint_type\n",
    "    return kdl.Joint(jnt.name, kdl.Joint.Fixed)\n",
    "\n",
    "def urdf_inertial_to_kdl_rbi(i):\n",
    "    origin = urdf_pose_to_kdl_frame(i.origin)\n",
    "    rbi = kdl.RigidBodyInertia(i.mass, origin.p,\n",
    "                               kdl.RotationalInertia(i.inertia.ixx,\n",
    "                                                     i.inertia.iyy,\n",
    "                                                     i.inertia.izz,\n",
    "                                                     i.inertia.ixy,\n",
    "                                                     i.inertia.ixz,\n",
    "                                                     i.inertia.iyz))\n",
    "    return origin.M * rbi\n",
    "\n",
    "##\n",
    "# Returns a PyKDL.Tree generated from a urdf_parser_py.urdf.URDF object.\n",
    "def kdl_tree_from_urdf_model(urdf):\n",
    "    root = urdf.get_root()\n",
    "    tree = kdl.Tree(root)\n",
    "    def add_children_to_tree(parent):\n",
    "        if parent in urdf.child_map:\n",
    "            for joint, child_name in urdf.child_map[parent]:\n",
    "                child = urdf.link_map[child_name]\n",
    "                if child.inertial is not None:\n",
    "                    kdl_inert = urdf_inertial_to_kdl_rbi(child.inertial)\n",
    "                else:\n",
    "                    kdl_inert = kdl.RigidBodyInertia()\n",
    "                kdl_jnt = urdf_joint_to_kdl_joint(urdf.joint_map[joint])\n",
    "                kdl_origin = urdf_pose_to_kdl_frame(urdf.joint_map[joint].origin)\n",
    "                kdl_sgm = kdl.Segment(child_name, kdl_jnt,\n",
    "                                      kdl_origin, kdl_inert)\n",
    "                tree.addSegment(kdl_sgm, parent)\n",
    "                add_children_to_tree(child_name)\n",
    "    add_children_to_tree(root)\n",
    "    return tree"
   ]
  },
  {
   "cell_type": "code",
   "execution_count": 36,
   "id": "55038b77037fce5a",
   "metadata": {
    "ExecuteTime": {
     "end_time": "2024-02-06T15:05:46.388129200Z",
     "start_time": "2024-02-06T15:05:46.380263200Z"
    },
    "collapsed": false
   },
   "outputs": [],
   "source": [
    "robot = URDF.from_xml_file(\"dofbot.urdf\")"
   ]
  },
  {
   "cell_type": "code",
   "execution_count": 38,
   "id": "306b6de64f56b524",
   "metadata": {
    "ExecuteTime": {
     "end_time": "2024-02-06T15:09:49.178413700Z",
     "start_time": "2024-02-06T15:09:49.159122900Z"
    },
    "collapsed": false
   },
   "outputs": [
    {
     "name": "stdout",
     "output_type": "stream",
     "text": [
      "<?xml version=\"1.0\" ?>\n",
      "<robot name=\"dofbot\" version=\"1.0\">\n",
      "  <link name=\"base_link\">\n",
      "    <visual>\n",
      "      <origin xyz=\"0.0 0.0 0.0\" rpy=\"0.0 0.0 0.0\"/>\n",
      "      <geometry>\n",
      "        <mesh filename=\"package://dofbot_moveit/meshes/base_link.STL\"/>\n",
      "      </geometry>\n",
      "      <material name=\"\">\n",
      "        <color rgba=\"0.7 0.7 0.7 1.0\"/>\n",
      "      </material>\n",
      "    </visual>\n",
      "    <collision>\n",
      "      <origin xyz=\"0.0 0.0 0.0\" rpy=\"0.0 0.0 0.0\"/>\n",
      "      <geometry>\n",
      "        <mesh filename=\"package://dofbot_moveit/meshes/base_link.STL\"/>\n",
      "      </geometry>\n",
      "    </collision>\n",
      "  </link>\n",
      "  <link name=\"link1\">\n",
      "    <visual>\n",
      "      <origin xyz=\"0.0 0.0 0.0\" rpy=\"0.0 0.0 0.0\"/>\n",
      "      <geometry>\n",
      "        <mesh filename=\"package://dofbot_moveit/meshes/link1.STL\"/>\n",
      "      </geometry>\n",
      "      <material name=\"\">\n",
      "        <color rgba=\"0.0 0.7 0.0 1.0\"/>\n",
      "      </material>\n",
      "    </visual>\n",
      "    <collision>\n",
      "      <origin xyz=\"0.0 0.0 0.0\" rpy=\"0.0 0.0 0.0\"/>\n",
      "      <geometry>\n",
      "        <mesh filename=\"package://dofbot_moveit/meshes/link1.STL\"/>\n",
      "      </geometry>\n",
      "    </collision>\n",
      "  </link>\n",
      "  <joint name=\"joint1\" type=\"revolute\">\n",
      "    <origin xyz=\"0.0 0.0 0.064\" rpy=\"0.0 0.0 0.0\"/>\n",
      "    <axis xyz=\"0.0 0.0 1.0\"/>\n",
      "    <parent link=\"base_link\"/>\n",
      "    <child link=\"link1\"/>\n",
      "    <limit effort=\"100.0\" lower=\"-1.5708\" upper=\"1.5708\" velocity=\"1.0\"/>\n",
      "  </joint>\n",
      "  <link name=\"link2\">\n",
      "    <visual>\n",
      "      <origin xyz=\"0.0 0.0 0.0\" rpy=\"0.0 0.0 0.0\"/>\n",
      "      <geometry>\n",
      "        <mesh filename=\"package://dofbot_moveit/meshes/link2.STL\"/>\n",
      "      </geometry>\n",
      "      <material name=\"\">\n",
      "        <color rgba=\"0.7 0.7 0.7 1.0\"/>\n",
      "      </material>\n",
      "    </visual>\n",
      "    <collision>\n",
      "      <origin xyz=\"0.0 0.0 0.0\" rpy=\"0.0 0.0 0.0\"/>\n",
      "      <geometry>\n",
      "        <mesh filename=\"package://dofbot_moveit/meshes/link2.STL\"/>\n",
      "      </geometry>\n",
      "    </collision>\n",
      "  </link>\n",
      "  <joint name=\"joint2\" type=\"revolute\">\n",
      "    <origin xyz=\"0.0 0.0 0.0435\" rpy=\"0.0 1.5708 0.0\"/>\n",
      "    <axis xyz=\"0.0 0.0 1.0\"/>\n",
      "    <parent link=\"link1\"/>\n",
      "    <child link=\"link2\"/>\n",
      "    <limit effort=\"100.0\" lower=\"-1.5708\" upper=\"1.5708\" velocity=\"1.0\"/>\n",
      "  </joint>\n",
      "  <link name=\"link3\">\n",
      "    <visual>\n",
      "      <origin xyz=\"0.0 0.0 0.0\" rpy=\"0.0 0.0 0.0\"/>\n",
      "      <geometry>\n",
      "        <mesh filename=\"package://dofbot_moveit/meshes/link3.STL\"/>\n",
      "      </geometry>\n",
      "      <material name=\"\">\n",
      "        <color rgba=\"0.0 0.7 0.0 1.0\"/>\n",
      "      </material>\n",
      "    </visual>\n",
      "    <collision>\n",
      "      <origin xyz=\"0.0 0.0 0.0\" rpy=\"0.0 0.0 0.0\"/>\n",
      "      <geometry>\n",
      "        <mesh filename=\"package://dofbot_moveit/meshes/link3.STL\"/>\n",
      "      </geometry>\n",
      "    </collision>\n",
      "  </link>\n",
      "  <joint name=\"joint3\" type=\"revolute\">\n",
      "    <origin xyz=\"-0.08285 0.0 0.0\" rpy=\"0.0 0.0 0.0\"/>\n",
      "    <axis xyz=\"0.0 0.0 1.0\"/>\n",
      "    <parent link=\"link2\"/>\n",
      "    <child link=\"link3\"/>\n",
      "    <limit effort=\"100.0\" lower=\"-1.5708\" upper=\"1.5708\" velocity=\"1.0\"/>\n",
      "  </joint>\n",
      "  <link name=\"link4\">\n",
      "    <visual>\n",
      "      <origin xyz=\"0.0 0.0 0.0\" rpy=\"0.0 0.0 0.0\"/>\n",
      "      <geometry>\n",
      "        <mesh filename=\"package://dofbot_moveit/meshes/link4.STL\"/>\n",
      "      </geometry>\n",
      "      <material name=\"\">\n",
      "        <color rgba=\"0.7 0.7 0.7 1.0\"/>\n",
      "      </material>\n",
      "    </visual>\n",
      "    <collision>\n",
      "      <origin xyz=\"0.0 0.0 0.0\" rpy=\"0.0 0.0 0.0\"/>\n",
      "      <geometry>\n",
      "        <mesh filename=\"package://dofbot_moveit/meshes/link4.STL\"/>\n",
      "      </geometry>\n",
      "    </collision>\n",
      "  </link>\n",
      "  <joint name=\"joint4\" type=\"revolute\">\n",
      "    <origin xyz=\"-0.08285 0.0 0.0\" rpy=\"0.0 0.0 0.0\"/>\n",
      "    <axis xyz=\"0.0 0.0 1.0\"/>\n",
      "    <parent link=\"link3\"/>\n",
      "    <child link=\"link4\"/>\n",
      "    <limit effort=\"100.0\" lower=\"-1.5708\" upper=\"1.5708\" velocity=\"1.0\"/>\n",
      "  </joint>\n",
      "  <link name=\"link5\">\n",
      "    <visual>\n",
      "      <origin xyz=\"0.0 0.0 0.0\" rpy=\"0.0 0.0 0.0\"/>\n",
      "      <geometry>\n",
      "        <mesh filename=\"package://dofbot_moveit/meshes/link5.STL\"/>\n",
      "      </geometry>\n",
      "      <material name=\"\">\n",
      "        <color rgba=\"1.0 1.0 1.0 1.0\"/>\n",
      "      </material>\n",
      "    </visual>\n",
      "    <collision>\n",
      "      <origin xyz=\"0.0 0.0 0.0\" rpy=\"0.0 0.0 0.0\"/>\n",
      "      <geometry>\n",
      "        <mesh filename=\"package://dofbot_moveit/meshes/link5.STL\"/>\n",
      "      </geometry>\n",
      "    </collision>\n",
      "  </link>\n",
      "  <joint name=\"joint5\" type=\"revolute\">\n",
      "    <origin xyz=\"-0.07385 -0.00215 0.0\" rpy=\"0.0 -1.5708 0.0\"/>\n",
      "    <axis xyz=\"0.0 0.0 1.0\"/>\n",
      "    <parent link=\"link4\"/>\n",
      "    <child link=\"link5\"/>\n",
      "    <limit effort=\"100.0\" lower=\"-1.5708\" upper=\"3.1416\" velocity=\"1.0\"/>\n",
      "  </joint>\n",
      "</robot>\n"
     ]
    }
   ],
   "source": [
    "xml_string = robot.to_xml_string()\n",
    "print(xml_string)\n",
    "tree = kdl_tree_from_urdf_model(robot)"
   ]
  },
  {
   "cell_type": "code",
   "execution_count": 39,
   "id": "bc207844f0ec4a73",
   "metadata": {
    "ExecuteTime": {
     "end_time": "2024-02-06T15:10:07.379121400Z",
     "start_time": "2024-02-06T15:10:07.370546600Z"
    },
    "collapsed": false
   },
   "outputs": [
    {
     "data": {
      "text/plain": [
       "base_link(q_nr: 0)\n",
       " \tlink1(q_nr: 0)\n",
       " \tlink2(q_nr: 1)\n",
       " \tlink3(q_nr: 2)\n",
       " \tlink4(q_nr: 3)\n",
       " \tlink5(q_nr: 4)\n",
       " \t\n",
       "\t\n",
       "\t\n",
       "\t\n",
       "\t\n",
       "\t"
      ]
     },
     "execution_count": 39,
     "metadata": {},
     "output_type": "execute_result"
    }
   ],
   "source": [
    "tree"
   ]
  },
  {
   "cell_type": "code",
   "execution_count": 349,
   "id": "db471d9e8fc71e6e",
   "metadata": {
    "ExecuteTime": {
     "end_time": "2024-02-13T12:41:10.476395100Z",
     "start_time": "2024-02-13T12:41:10.461276400Z"
    },
    "collapsed": false
   },
   "outputs": [
    {
     "name": "stdout",
     "output_type": "stream",
     "text": [
      "0\n",
      "Solution found!\n",
      "[    -1.39094    -1.38649    -1.36212     2.73928     1.39081]\n"
     ]
    }
   ],
   "source": [
    "chain = tree.getChain(\"base_link\", \"link5\")\n",
    "fk_solver = kdl.ChainFkSolverPos_recursive(chain)\n",
    "number_of_joints = chain.getNrOfJoints()\n",
    "q = kdl.JntArray(5)\n",
    "q[1] = np.pi/3\n",
    "q[2]  = np.pi/3\n",
    "# Create a frame to hold the end effector pose result\n",
    "end_effector_pose = kdl.Frame()\n",
    "\n",
    "# Calculate forward kinematics\n",
    "fk_solver.JntToCart(q, end_effector_pose)\n",
    "# Create the inverse kinematics solver\n",
    "ik_solver = kdl.ChainIkSolverPos_LMA(chain,eps=1e-3,maxiter=10000)\n",
    "\n",
    "# Desired end-effector pose\n",
    "\n",
    "desired_pose = kdl.Frame(kdl.Rotation.RPY(0, 0, 0), kdl.Vector(0.11, 0.02, 0.12))\n",
    "# Solution joint positions will be stored here\n",
    "solution = kdl.JntArray(number_of_joints)\n",
    "q_int = kdl.JntArray(5)\n",
    "q_int[0]  = -np.arctan2(desired_pose.p[0], desired_pose.p[1])\n",
    "# Calculate inverse kinematics\n",
    "status = ik_solver.CartToJnt(q_int, desired_pose, solution)\n",
    "# while status != 0:\n",
    "#     q_int[1]  = np.random.uniform(low=-np.pi/2, high=np.pi/2)\n",
    "#     q_int[2]  = np.random.uniform(low=-np.pi/2, high=np.pi/2)\n",
    "#     q_int[3]  = np.random.uniform(low=-np.pi/2, high=np.pi/2)\n",
    "#     status = ik_solver.CartToJnt(q_int, desired_pose, solution)\n",
    "print(status)\n",
    "if status >= 0:\n",
    "    print(\"Solution found!\") \n",
    "    # `solution` now contains the joint positions\n",
    "else:\n",
    "    print(\"No Solution\")\n",
    "    \n",
    "print(solution)"
   ]
  },
  {
   "cell_type": "code",
   "execution_count": 350,
   "id": "a9118717ed671a5",
   "metadata": {
    "ExecuteTime": {
     "end_time": "2024-02-13T12:41:11.103268600Z",
     "start_time": "2024-02-13T12:41:11.085782500Z"
    },
    "collapsed": false
   },
   "outputs": [
    {
     "data": {
      "text/plain": [
       "[[           1,           0,           0;\n",
       "            0,           1,           0;\n",
       "           -0,           0,           1]\n",
       "[        0.11,        0.02,        0.12]]"
      ]
     },
     "execution_count": 350,
     "metadata": {},
     "output_type": "execute_result"
    }
   ],
   "source": [
    "desired_pose "
   ]
  },
  {
   "cell_type": "code",
   "execution_count": 351,
   "id": "3b71ca15c87c4191",
   "metadata": {
    "ExecuteTime": {
     "end_time": "2024-02-13T12:41:11.649783Z",
     "start_time": "2024-02-13T12:41:11.630201400Z"
    },
    "collapsed": false
   },
   "outputs": [
    {
     "data": {
      "text/plain": [
       "[[    0.999958,  0.00012749,  0.00918266;\n",
       " -0.000142828,    0.999999,  0.00166959;\n",
       "  -0.00918243, -0.00167083,    0.999956]\n",
       "[    0.109911,    0.019984,    0.120016]]"
      ]
     },
     "execution_count": 351,
     "metadata": {},
     "output_type": "execute_result"
    }
   ],
   "source": [
    "fk_solver.JntToCart(solution, end_effector_pose )\n",
    "end_effector_pose "
   ]
  },
  {
   "cell_type": "code",
   "execution_count": 387,
   "id": "a6e310e828471880",
   "metadata": {
    "ExecuteTime": {
     "end_time": "2024-02-13T13:28:19.992843100Z",
     "start_time": "2024-02-13T13:28:19.979020700Z"
    },
    "collapsed": false
   },
   "outputs": [
    {
     "data": {
      "text/plain": [
       "0"
      ]
     },
     "execution_count": 387,
     "metadata": {},
     "output_type": "execute_result"
    }
   ],
   "source": [
    "q = kdl.JntArray(5)\n",
    "q[0] = 0\n",
    "q[1]  = -np.pi/2\n",
    "# Create a frame to hold the end effector pose result\n",
    "end_effector_pose = kdl.Frame()\n",
    "\n",
    "# Calculate forward kinematics\n",
    "fk_solver.JntToCart(q, end_effector_pose)"
   ]
  },
  {
   "cell_type": "code",
   "execution_count": 388,
   "id": "e7bac623a678fe4d",
   "metadata": {
    "ExecuteTime": {
     "end_time": "2024-02-13T13:28:20.515972100Z",
     "start_time": "2024-02-13T13:28:20.489257200Z"
    },
    "collapsed": false
   },
   "outputs": [
    {
     "data": {
      "text/plain": [
       "[[           1,-3.67321e-06,-3.67321e-06;\n",
       "  3.67321e-06, 6.12323e-17,           1;\n",
       " -3.67321e-06,          -1, 1.34925e-11]\n",
       "[ 7.89739e-09,     0.23955,     0.10965]]"
      ]
     },
     "execution_count": 388,
     "metadata": {},
     "output_type": "execute_result"
    }
   ],
   "source": [
    "end_effector_pose"
   ]
  },
  {
   "cell_type": "code",
   "execution_count": 395,
   "id": "af440d608681b30c",
   "metadata": {
    "ExecuteTime": {
     "end_time": "2024-02-13T13:31:46.795559400Z",
     "start_time": "2024-02-13T13:31:46.781728200Z"
    },
    "collapsed": false
   },
   "outputs": [
    {
     "name": "stdout",
     "output_type": "stream",
     "text": [
      "0\n",
      "Solution found!\n",
      "[[ 0.000530733,          -1,-2.96503e-06;\n",
      "   -0.0144023,-1.06085e-05,    0.999896;\n",
      "    -0.999896,-0.000530636,  -0.0144023]\n",
      "[-5.91143e-08,    0.199823,   0.0499994]]\n",
      "[[ 6.12323e-17,          -1, 6.12323e-17;\n",
      "            0, 6.12323e-17,           1;\n",
      "           -1,-6.12323e-17,  3.7494e-33]\n",
      "[           0,         0.2,        0.05]]\n"
     ]
    }
   ],
   "source": [
    "# Desired end-effector pose\n",
    "\n",
    "desired_pose = kdl.Frame(kdl.Rotation.RPY(-np.pi/2, np.pi/2, 0), kdl.Vector(0., 0.2, 0.05))\n",
    "# Solution joint positions will be stored here\n",
    "solution = kdl.JntArray(number_of_joints)\n",
    "q_int = kdl.JntArray(5)\n",
    "q_int[0]  = -np.arctan2(desired_pose.p[0], desired_pose.p[1])\n",
    "# Calculate inverse kinematics\n",
    "status = ik_solver.CartToJnt(q_int, desired_pose, solution)\n",
    "# while status != 0:\n",
    "q_int[1]  = np.random.uniform(low=0, high=np.pi)\n",
    "q_int[2]  = np.random.uniform(low=0, high=np.pi)\n",
    "q_int[3]  = np.random.uniform(low=0, high=np.pi)\n",
    "q_int[4]  = np.random.uniform(low=0, high=np.pi)\n",
    "#     status = ik_solver.CartToJnt(q_int, desired_pose, solution)\n",
    "print(status)\n",
    "if status >= 0:\n",
    "    print(\"Solution found!\") \n",
    "    # `solution` now contains the joint positions\n",
    "else:\n",
    "    print(\"No Solution\")\n",
    "fk_solver.JntToCart(solution, end_effector_pose)\n",
    "print(end_effector_pose)\n",
    "print(desired_pose)"
   ]
  },
  {
   "cell_type": "code",
   "execution_count": 396,
   "id": "1f093d5ee98818fe",
   "metadata": {
    "ExecuteTime": {
     "end_time": "2024-02-13T13:31:49.323649200Z",
     "start_time": "2024-02-13T13:31:49.313030200Z"
    },
    "collapsed": false
   },
   "outputs": [
    {
     "name": "stdout",
     "output_type": "stream",
     "text": [
      "-7.611595525802034e-07 , -1.4295786783796354 , -1.1532132390028922 , 0.9975928272716723 , 1.570261909573396\n"
     ]
    }
   ],
   "source": [
    "solution\n",
    "print(solution[0],\",\",solution[1],\",\",solution[2],\",\",solution[3],\",\",solution[4])"
   ]
  },
  {
   "cell_type": "code",
   "execution_count": 391,
   "id": "aa701ba72e56e8e4",
   "metadata": {
    "ExecuteTime": {
     "end_time": "2024-02-13T13:29:49.974168100Z",
     "start_time": "2024-02-13T13:29:47.444772100Z"
    },
    "collapsed": false
   },
   "outputs": [
    {
     "ename": "KeyboardInterrupt",
     "evalue": "",
     "output_type": "error",
     "traceback": [
      "\u001b[1;31m---------------------------------------------------------------------------\u001b[0m",
      "\u001b[1;31mKeyboardInterrupt\u001b[0m                         Traceback (most recent call last)",
      "Cell \u001b[1;32mIn[391], line 14\u001b[0m\n\u001b[0;32m     12\u001b[0m     q_int[\u001b[38;5;241m2\u001b[39m]  \u001b[38;5;241m=\u001b[39m np\u001b[38;5;241m.\u001b[39mrandom\u001b[38;5;241m.\u001b[39muniform(low\u001b[38;5;241m=\u001b[39m\u001b[38;5;241m-\u001b[39mnp\u001b[38;5;241m.\u001b[39mpi\u001b[38;5;241m/\u001b[39m\u001b[38;5;241m2\u001b[39m, high\u001b[38;5;241m=\u001b[39mnp\u001b[38;5;241m.\u001b[39mpi\u001b[38;5;241m/\u001b[39m\u001b[38;5;241m2\u001b[39m)\n\u001b[0;32m     13\u001b[0m     q_int[\u001b[38;5;241m3\u001b[39m]  \u001b[38;5;241m=\u001b[39m np\u001b[38;5;241m.\u001b[39mrandom\u001b[38;5;241m.\u001b[39muniform(low\u001b[38;5;241m=\u001b[39m\u001b[38;5;241m-\u001b[39mnp\u001b[38;5;241m.\u001b[39mpi\u001b[38;5;241m/\u001b[39m\u001b[38;5;241m2\u001b[39m, high\u001b[38;5;241m=\u001b[39mnp\u001b[38;5;241m.\u001b[39mpi\u001b[38;5;241m/\u001b[39m\u001b[38;5;241m2\u001b[39m)\n\u001b[1;32m---> 14\u001b[0m     status \u001b[38;5;241m=\u001b[39m ik_solver\u001b[38;5;241m.\u001b[39mCartToJnt(q_int, desired_pose, solution)\n\u001b[0;32m     15\u001b[0m \u001b[38;5;28mprint\u001b[39m(status)\n\u001b[0;32m     16\u001b[0m \u001b[38;5;28;01mif\u001b[39;00m status \u001b[38;5;241m>\u001b[39m\u001b[38;5;241m=\u001b[39m \u001b[38;5;241m0\u001b[39m:\n",
      "\u001b[1;31mKeyboardInterrupt\u001b[0m: "
     ]
    }
   ],
   "source": [
    "# Desired end-effector pose\n",
    "\n",
    "desired_pose = kdl.Frame(kdl.Rotation.EulerZYX(0, np.pi/2, np.pi/2), kdl.Vector(0.3, 0., 0.05))\n",
    "# Solution joint positions will be stored here\n",
    "solution = kdl.JntArray(number_of_joints)\n",
    "q_int = kdl.JntArray(5)\n",
    "q_int[0]  = -np.arctan2(desired_pose.p[0], desired_pose.p[1])\n",
    "# Calculate inverse kinematics\n",
    "status = ik_solver.CartToJnt(q_int, desired_pose, solution)\n",
    "while status != 0:\n",
    "    q_int[1]  = np.random.uniform(low=-np.pi/2, high=np.pi/2)\n",
    "    q_int[2]  = np.random.uniform(low=-np.pi/2, high=np.pi/2)\n",
    "    q_int[3]  = np.random.uniform(low=-np.pi/2, high=np.pi/2)\n",
    "    status = ik_solver.CartToJnt(q_int, desired_pose, solution)\n",
    "print(status)\n",
    "if status >= 0:\n",
    "    print(\"Solution found!\") \n",
    "    # `solution` now contains the joint positions\n",
    "else:\n",
    "    print(\"No Solution\")\n",
    "    \n",
    "print(solution)"
   ]
  },
  {
   "cell_type": "markdown",
   "id": "6ca4bd4b1992481e",
   "metadata": {
    "collapsed": false
   },
   "source": [
    "[   -0.463648    -1.62649     -1.1286     2.75507    0.463648]"
   ]
  },
  {
   "cell_type": "code",
   "execution_count": 251,
   "id": "b8d96a42b65f3b8b",
   "metadata": {
    "ExecuteTime": {
     "end_time": "2024-02-07T01:48:20.103582300Z",
     "start_time": "2024-02-07T01:48:20.074195400Z"
    },
    "collapsed": false
   },
   "outputs": [
    {
     "ename": "SyntaxError",
     "evalue": "invalid syntax (159487375.py, line 1)",
     "output_type": "error",
     "traceback": [
      "\u001b[1;36m  Cell \u001b[1;32mIn[251], line 1\u001b[1;36m\u001b[0m\n\u001b[1;33m    [    -1.39094    -1.39019      -1.349     2.73913     2.96174]\u001b[0m\n\u001b[1;37m                                              ^\u001b[0m\n\u001b[1;31mSyntaxError\u001b[0m\u001b[1;31m:\u001b[0m invalid syntax\n"
     ]
    }
   ],
   "source": []
  },
  {
   "cell_type": "code",
   "execution_count": null,
   "id": "630193b308f167b",
   "metadata": {
    "collapsed": false
   },
   "outputs": [],
   "source": []
  }
 ],
 "metadata": {
  "kernelspec": {
   "display_name": "Python 3 (ipykernel)",
   "language": "python",
   "name": "python3"
  },
  "language_info": {
   "codemirror_mode": {
    "name": "ipython",
    "version": 3
   },
   "file_extension": ".py",
   "mimetype": "text/x-python",
   "name": "python",
   "nbconvert_exporter": "python",
   "pygments_lexer": "ipython3",
   "version": "3.8.18"
  }
 },
 "nbformat": 4,
 "nbformat_minor": 5
}
